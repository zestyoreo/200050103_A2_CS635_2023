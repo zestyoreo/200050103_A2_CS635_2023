{
 "cells": [
  {
   "cell_type": "code",
   "execution_count": 1,
   "metadata": {},
   "outputs": [],
   "source": [
    "import os\n",
    "os.environ[\"OPENAI_API_KEY\"] = \"sk-xxx\""
   ]
  },
  {
   "cell_type": "code",
   "execution_count": 17,
   "metadata": {},
   "outputs": [],
   "source": [
    "top_k = 3\n",
    "dummy = \"dummy\""
   ]
  },
  {
   "cell_type": "code",
   "execution_count": 21,
   "metadata": {},
   "outputs": [
    {
     "name": "stderr",
     "output_type": "stream",
     "text": [
      "/opt/homebrew/Caskroom/miniforge/base/lib/python3.10/site-packages/tqdm/auto.py:21: TqdmWarning: IProgress not found. Please update jupyter and ipywidgets. See https://ipywidgets.readthedocs.io/en/stable/user_install.html\n",
      "  from .autonotebook import tqdm as notebook_tqdm\n"
     ]
    }
   ],
   "source": [
    "import langchain\n",
    "from langchain.embeddings import HuggingFaceEmbeddings\n",
    "embeddings = HuggingFaceEmbeddings()\n",
    "\n",
    "def encode_text(text):\n",
    "    embeds = embeddings.embed_query(text)\n",
    "    return embeds"
   ]
  },
  {
   "cell_type": "code",
   "execution_count": 22,
   "metadata": {},
   "outputs": [],
   "source": [
    "query = \"Who is the lead actor in the movie Bahubali?\""
   ]
  },
  {
   "cell_type": "code",
   "execution_count": 23,
   "metadata": {},
   "outputs": [],
   "source": [
    "query_embeds = encode_text(query)"
   ]
  },
  {
   "cell_type": "code",
   "execution_count": 24,
   "metadata": {},
   "outputs": [],
   "source": [
    "from neo4j import GraphDatabase, basic_auth\n",
    "\n",
    "driver = GraphDatabase.driver(\n",
    "    \"bolt://localhost:7687\",\n",
    "  auth=basic_auth(\"neo4j\", \"$$1234bala\"))"
   ]
  },
  {
   "cell_type": "code",
   "execution_count": 41,
   "metadata": {},
   "outputs": [],
   "source": [
    "graph_similarity = \"\"\"// 1 - Find the movie nodes with similar embeddings\n",
    "MATCH (movieEmb:Movie {title: $dummy_title})\n",
    "WITH movieEmb\n",
    "ORDER BY movieEmb.rank // Assuming rank or some other property to initiate the search\n",
    "LIMIT 1\n",
    "CALL db.index.vector.queryNodes('desc-embeddings',$k, movieEmb.embedding) YIELD node, score\n",
    "WHERE node:Movie\n",
    "// 2 - Retrieve all related data of the movie\n",
    "OPTIONAL MATCH (node)-[:DIRECTED_BY]->(d:Director)\n",
    "OPTIONAL MATCH (node)-[:FEATURES_ACTOR]->(a:Actor)\n",
    "OPTIONAL MATCH (node)-[:BELONGS_TO_GENRE]->(g:Genre)\n",
    "OPTIONAL MATCH (node)-[:RELEASED_IN]->(y:Year)\n",
    "// 3 - Prepare results\n",
    "RETURN node.title AS movie, \n",
    "       node.description AS desc,\n",
    "       collect(DISTINCT d.name) AS directors, \n",
    "       collect(DISTINCT a.name) AS actors, \n",
    "       collect(DISTINCT g.name) AS genres, \n",
    "       y.year AS releaseYear, \n",
    "       score \n",
    "ORDER BY score DESC LIMIT $k;\"\"\""
   ]
  },
  {
   "cell_type": "code",
   "execution_count": 35,
   "metadata": {},
   "outputs": [],
   "source": [
    "def create_dummy_movie_node(tx, movie):\n",
    "    query = (\n",
    "        \"CREATE (:Movie {\"\n",
    "        \"    rank: toInteger($rank), \"\n",
    "        \"    title: $title, \"\n",
    "        \"    description: $description, \"\n",
    "        \"    year: toInteger($year), \"\n",
    "        \"    runtime: toInteger($runtime), \"\n",
    "        \"    rating: toFloat($rating), \"\n",
    "        \"    votes: toInteger($votes), \"\n",
    "        \"    revenue: toFloat($revenue), \"\n",
    "        \"    metascore: toInteger($metascore) \"\n",
    "        \"})\"\n",
    "    )\n",
    "    tx.run(query, rank=movie['rank'], title=movie['title'], description=movie['description'], year=movie['year'], runtime=movie['runtime'], rating=movie['rating'], votes=movie['votes'], revenue=movie['revenue'], metascore=movie['metascore'], embedding=movie['embedding'])"
   ]
  },
  {
   "cell_type": "code",
   "execution_count": 36,
   "metadata": {},
   "outputs": [],
   "source": [
    "# match (m:Movie { title: value.Title })\n",
    "def add_embed_movie_node(tx, movie):\n",
    "    query = (\n",
    "        \"match (m:Movie { title: $title })\"\n",
    "        \"set m.embedding = $embedding\"\n",
    "    )\n",
    "    tx.run(query, rank=movie['rank'], title=movie['title'], description=movie['description'], year=movie['year'], runtime=movie['runtime'], rating=movie['rating'], votes=movie['votes'], revenue=movie['revenue'], metascore=movie['metascore'], embedding=movie['embedding'])"
   ]
  },
  {
   "cell_type": "code",
   "execution_count": 37,
   "metadata": {},
   "outputs": [],
   "source": [
    "movie ={\"rank\":6, \"title\":\"Dummy Node 007\", \"description\":\"NA\", \"year\":1999, \"runtime\":120,\"rating\": 6.7, \"votes\":1000, \"revenue\":100, \"metascore\":100, \"embedding\":query_embeds}"
   ]
  },
  {
   "cell_type": "code",
   "execution_count": 43,
   "metadata": {},
   "outputs": [
    {
     "name": "stderr",
     "output_type": "stream",
     "text": [
      "/var/folders/lc/p2v9_j0j0fxdgkt03r9sw75r0000gn/T/ipykernel_45437/3841302031.py:1: DeprecationWarning: Using a driver after it has been closed is deprecated. Future versions of the driver will raise an error.\n",
      "  with driver.session() as session:\n",
      "/var/folders/lc/p2v9_j0j0fxdgkt03r9sw75r0000gn/T/ipykernel_45437/3841302031.py:2: DeprecationWarning: write_transaction has been renamed to execute_write\n",
      "  mov = session.write_transaction(create_dummy_movie_node, movie)\n",
      "/var/folders/lc/p2v9_j0j0fxdgkt03r9sw75r0000gn/T/ipykernel_45437/3841302031.py:8: DeprecationWarning: Using a driver after it has been closed is deprecated. Future versions of the driver will raise an error.\n",
      "  with driver.session() as session:\n",
      "/var/folders/lc/p2v9_j0j0fxdgkt03r9sw75r0000gn/T/ipykernel_45437/3841302031.py:9: DeprecationWarning: write_transaction has been renamed to execute_write\n",
      "  mov2 = session.write_transaction(add_embed_movie_node, movie)\n"
     ]
    }
   ],
   "source": [
    "with driver.session() as session:\n",
    "    mov = session.write_transaction(create_dummy_movie_node, movie)\n",
    "    # for record in mov:\n",
    "    #     print(record[\"p\"])\n",
    "\n",
    "driver.close()\n",
    "\n",
    "with driver.session() as session:\n",
    "    mov2 = session.write_transaction(add_embed_movie_node, movie)\n",
    "\n",
    "driver.close()"
   ]
  },
  {
   "cell_type": "code",
   "execution_count": 46,
   "metadata": {},
   "outputs": [
    {
     "name": "stdout",
     "output_type": "stream",
     "text": [
      "Related Movies:title: Bahubali: The Beginning\n",
      "Description: In ancient India, an adventurous and daring man becomes involved in a decades old feud between two warring people.\n",
      "Director: S.S. Rajamouli\n",
      "Actors: Anushka Shetty,Tamannaah BhatiaPrabhasRana Daggubati\n",
      "Year: 2015\n"
     ]
    },
    {
     "name": "stderr",
     "output_type": "stream",
     "text": [
      "/var/folders/lc/p2v9_j0j0fxdgkt03r9sw75r0000gn/T/ipykernel_45437/1295354669.py:1: DeprecationWarning: Using a driver after it has been closed is deprecated. Future versions of the driver will raise an error.\n",
      "  with driver.session(database=\"neo4j\") as session:\n",
      "/var/folders/lc/p2v9_j0j0fxdgkt03r9sw75r0000gn/T/ipykernel_45437/1295354669.py:2: DeprecationWarning: read_transaction has been renamed to execute_read\n",
      "  results = session.read_transaction(\n"
     ]
    }
   ],
   "source": [
    "with driver.session(database=\"neo4j\") as session:\n",
    "  results = session.read_transaction(\n",
    "    lambda tx: tx.run(graph_similarity,dummy_title=movie[\"title\"],k=top_k).data())\n",
    "\n",
    "  # print(results)\n",
    "  results.pop(0)\n",
    "  context = \"Related Movies:\" + \"\\n\".join([\"title: \" + record['movie'] + \"\\n\" + \"Description: \" + record['desc'] + \"\\n\" + \"Director: \" + \"\".join([d for d in record['directors']])+ \"\\n\" + \"Actors: \" + \"\".join([d for d in record['actors']]) + \"\\n\" + \"Year: \" + record['releaseYear'] for record in results ])\n",
    "\n",
    "driver.close()\n",
    "\n",
    "print(context)"
   ]
  },
  {
   "cell_type": "code",
   "execution_count": 48,
   "metadata": {},
   "outputs": [
    {
     "data": {
      "text/plain": [
       "AIMessage(content='The lead actor in the movie Bahubali: The Beginning is Prabhas. (Bahubali: The Beginning, 2015, S.S. Rajamouli, Anushka Shetty, Tamannaah Bhatia, Prabhas, Rana Daggubati)', additional_kwargs={}, example=False)"
      ]
     },
     "execution_count": 48,
     "metadata": {},
     "output_type": "execute_result"
    }
   ],
   "source": [
    "from langchain.chat_models import ChatOpenAI\n",
    "from langchain.prompts import PromptTemplate\n",
    "\n",
    "llm = ChatOpenAI(temperature=0, model=\"gpt-4\")\n",
    "\n",
    "template = \"\"\" \n",
    "    You are a movie research assistant tasked with providing detailed information about films, actors, directors, and genres based on a comprehensive movie database.\n",
    "    Utilize the following context from the knowledge graph to answer the inquiries presented at the end.\n",
    "    Strive to maintain the integrity of the context in your responses for accuracy. Do not alter the context unless absolutely necessary.\n",
    "    If the answer is not available in the knowledge graph, admit the limitation rather than fabricating a response.\n",
    "    ----\n",
    "    {context}\n",
    "    ----\n",
    "    Each answer should conclude with metadata referencing the relevant movie information in the format (title, year, director, genres, actors).\n",
    "    For instance, if the context includes metadata: (title:'Inception', year:2010, director:'Christopher Nolan', genres:'Sci-Fi, Thriller', actors:'Leonardo DiCaprio, Joseph Gordon-Levitt'), your response should display ('Inception', 2010, 'Christopher Nolan', 'Sci-Fi, Thriller', 'Leonardo DiCaprio, Joseph Gordon-Levitt').\n",
    "    \n",
    "    Question:```{question}```  \"\"\"\n",
    "prompt = PromptTemplate.from_template(template)\n",
    "\n",
    "theprompt = prompt.format_prompt(question=query,context=context)\n",
    "\n",
    "#print(theprompt)\n",
    "\n",
    "llm(theprompt.to_messages())"
   ]
  },
  {
   "cell_type": "code",
   "execution_count": 49,
   "metadata": {},
   "outputs": [],
   "source": [
    "def del_dummy_movie_node(tx, movie):\n",
    "    query = (\n",
    "        \"MATCH (m:Movie {title: $title}) \"\n",
    "        \"DELETE m\"\n",
    "    )\n",
    "    tx.run(query, title=movie['title'])"
   ]
  },
  {
   "cell_type": "code",
   "execution_count": 52,
   "metadata": {},
   "outputs": [
    {
     "name": "stderr",
     "output_type": "stream",
     "text": [
      "/var/folders/lc/p2v9_j0j0fxdgkt03r9sw75r0000gn/T/ipykernel_45437/481839789.py:1: DeprecationWarning: Using a driver after it has been closed is deprecated. Future versions of the driver will raise an error.\n",
      "  with driver.session() as session:\n",
      "/var/folders/lc/p2v9_j0j0fxdgkt03r9sw75r0000gn/T/ipykernel_45437/481839789.py:2: DeprecationWarning: write_transaction has been renamed to execute_write\n",
      "  mov = session.write_transaction(del_dummy_movie_node,movie)\n"
     ]
    }
   ],
   "source": [
    "with driver.session() as session:\n",
    "    mov = session.write_transaction(del_dummy_movie_node,movie)\n",
    "\n",
    "driver.close()"
   ]
  },
  {
   "cell_type": "code",
   "execution_count": null,
   "metadata": {},
   "outputs": [],
   "source": []
  }
 ],
 "metadata": {
  "kernelspec": {
   "display_name": "base",
   "language": "python",
   "name": "python3"
  },
  "language_info": {
   "codemirror_mode": {
    "name": "ipython",
    "version": 3
   },
   "file_extension": ".py",
   "mimetype": "text/x-python",
   "name": "python",
   "nbconvert_exporter": "python",
   "pygments_lexer": "ipython3",
   "version": "3.10.8"
  }
 },
 "nbformat": 4,
 "nbformat_minor": 2
}
