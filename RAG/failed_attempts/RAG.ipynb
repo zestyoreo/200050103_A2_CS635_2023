{
 "cells": [
  {
   "cell_type": "code",
   "execution_count": 21,
   "metadata": {},
   "outputs": [],
   "source": [
    "import os\n",
    "os.environ[\"OPENAI_API_KEY\"] = \"sk-xxx\"\n",
    "k=3"
   ]
  },
  {
   "cell_type": "code",
   "execution_count": 15,
   "metadata": {},
   "outputs": [],
   "source": [
    "import langchain\n",
    "from langchain.text_splitter import TokenTextSplitter\n",
    "from langchain.embeddings import HuggingFaceEmbeddings\n",
    "from langchain.chat_models import ChatOpenAI\n",
    "from langchain.prompts import SystemMessagePromptTemplate\n",
    "from langchain.prompts import HumanMessagePromptTemplate\n",
    "from langchain.prompts import ChatPromptTemplate\n",
    "from langchain.chains.qa_with_sources.loading import load_qa_with_sources_chain\n",
    "from langchain.chains import RetrievalQAWithSourcesChain\n",
    "from langchain.vectorstores import Neo4jVector"
   ]
  },
  {
   "cell_type": "code",
   "execution_count": 11,
   "metadata": {},
   "outputs": [],
   "source": [
    "url=\"bolt://localhost:7687\"   \n",
    "username=\"neo4j\"\n",
    "password=\"$$1234bala\"\n",
    "\n",
    "llm_name = \"gpt-4\"\n",
    "\n",
    "embeddings = HuggingFaceEmbeddings()\n",
    "dimension = 768\n",
    "\n",
    "llm = ChatOpenAI(temperature=0, model=llm_name)"
   ]
  },
  {
   "cell_type": "code",
   "execution_count": 33,
   "metadata": {},
   "outputs": [],
   "source": [
    "ret_prompt = f\"\"\"WITH node AS movieEmb, score \n",
    "            ORDER BY score DESC LIMIT {k}\n",
    "            // 1 - Find the movie nodes with similar embeddings\n",
    "            MATCH (movieEmb:Movie) \n",
    "            WITH movieEmb, score\n",
    "            // 2 - Retrieve all related data of the movie\n",
    "            OPTIONAL MATCH (movieEmb)-[:DIRECTED_BY]->(d:Director)\n",
    "            OPTIONAL MATCH (movieEmb)-[:FEATURES_ACTOR]->(a:Actor)\n",
    "            OPTIONAL MATCH (movieEmb)-[:BELONGS_TO_GENRE]->(g:Genre)\n",
    "            OPTIONAL MATCH (movieEmb)-[:RELEASED_IN]->(y:Year)\n",
    "            // 3 - Prepare results\n",
    "            RETURN movieEmb AS movie, \n",
    "                   collect(d.name) AS directors, \n",
    "                   collect(a.name) AS actors, \n",
    "                   collect(g.name) AS genres, \n",
    "                   y.year AS releaseYear, \n",
    "                   score ORDER BY score DESC LIMIT {k};\"\"\""
   ]
  },
  {
   "cell_type": "code",
   "execution_count": 34,
   "metadata": {},
   "outputs": [],
   "source": [
    "def configure_qa_structure_rag_chain(llm, embeddings, embeddings_store_url, username, password,top_k=5):\n",
    "    # RAG response based on vector search and retrieval of structured chunks\n",
    "\n",
    "    general_system_template = \"\"\" \n",
    "    You are a movie research assistant tasked with providing detailed information about films, actors, directors, and genres based on a comprehensive movie database.\n",
    "    Utilize the following context from the knowledge graph to answer the inquiries presented at the end.\n",
    "    Strive to maintain the integrity of the context in your responses for accuracy. Do not alter the context unless absolutely necessary.\n",
    "    If the answer is not available in the knowledge graph, admit the limitation rather than fabricating a response.\n",
    "    ----\n",
    "    {summaries}\n",
    "    ----\n",
    "    Each answer should conclude with metadata referencing the relevant movie information in the format (title, year, director, genres, actors).\n",
    "    For instance, if the context includes metadata: (title:'Inception', year:2010, director:'Christopher Nolan', genres:'Sci-Fi, Thriller', actors:'Leonardo DiCaprio, Joseph Gordon-Levitt'), your response should display ('Inception', 2010, 'Christopher Nolan', 'Sci-Fi, Thriller', 'Leonardo DiCaprio, Joseph Gordon-Levitt').\n",
    "    \"\"\"\n",
    "    general_user_template = \"Question:```{question}```\"\n",
    "    messages = [\n",
    "        SystemMessagePromptTemplate.from_template(general_system_template),\n",
    "        HumanMessagePromptTemplate.from_template(general_user_template),\n",
    "    ]\n",
    "    qa_prompt = ChatPromptTemplate.from_messages(messages)\n",
    "\n",
    "    qa_chain = load_qa_with_sources_chain(\n",
    "        llm,\n",
    "        chain_type=\"stuff\",\n",
    "        prompt=qa_prompt,\n",
    "    )\n",
    "\n",
    "    # Initialise Neo4j as Vector + Knowledge Graph store\n",
    "    kg = Neo4jVector.from_existing_index(\n",
    "        embedding=embeddings,\n",
    "        url=embeddings_store_url,\n",
    "        username=username,\n",
    "        password=password,\n",
    "        database='neo4j',  # Default is 'neo4j'\n",
    "        index_name=\"desc-embeddings\",  # Name of the vector index\n",
    "        node_label=\"Movie\",  # Node label for embeddings\n",
    "        embedding_node_property=\"embedding\",  # Property for embedding values\n",
    "        text_node_property=\"description\",  # Text property in Movie nodes\n",
    "        retrieval_query=ret_prompt,\n",
    "        )\n",
    "\n",
    "\n",
    "    kg_qa = RetrievalQAWithSourcesChain(\n",
    "        combine_documents_chain=qa_chain,\n",
    "        retriever=kg.as_retriever(search_kwargs={\"k\": top_k}),\n",
    "        reduce_k_below_max_tokens=False,\n",
    "        max_tokens_limit=700,      # gpt-4\n",
    "    )\n",
    "    return kg_qa"
   ]
  },
  {
   "cell_type": "code",
   "execution_count": 35,
   "metadata": {},
   "outputs": [],
   "source": [
    "# rag_chain: KG augmented response, using structure-aware retrieval\n",
    "rag_chain = configure_qa_structure_rag_chain(\n",
    "    llm, embeddings, embeddings_store_url=url, username=username, password=password\n",
    ")"
   ]
  },
  {
   "cell_type": "code",
   "execution_count": null,
   "metadata": {},
   "outputs": [],
   "source": [
    "rag_chain(\n",
    "    {\"question\": \"Can you mention a 2014 release that featured Chris Pratt and Zoe Saldana as part of a team of unlikely heroes in a space opera?\"},\n",
    "    return_only_outputs=True,\n",
    ")"
   ]
  },
  {
   "cell_type": "code",
   "execution_count": null,
   "metadata": {},
   "outputs": [],
   "source": [
    "text_splitter = TokenTextSplitter(chunk_size=110, chunk_overlap=20)\n",
    "\n",
    "def encode_text(text):\n",
    "    op_texts = text_splitter.split_text(text)\n",
    "    embeds = embeddings.embed_query(op_texts[0])\n",
    "    return embeds"
   ]
  }
 ],
 "metadata": {
  "kernelspec": {
   "display_name": "base",
   "language": "python",
   "name": "python3"
  },
  "language_info": {
   "codemirror_mode": {
    "name": "ipython",
    "version": 3
   },
   "file_extension": ".py",
   "mimetype": "text/x-python",
   "name": "python",
   "nbconvert_exporter": "python",
   "pygments_lexer": "ipython3",
   "version": "3.10.8"
  }
 },
 "nbformat": 4,
 "nbformat_minor": 2
}
